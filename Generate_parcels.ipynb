{
 "cells": [
  {
   "cell_type": "code",
   "execution_count": 1,
   "id": "2acccecc-382b-42aa-befa-408a2f19f080",
   "metadata": {},
   "outputs": [],
   "source": [
    "import os\n",
    "import sys\n",
    "import math\n",
    "import torch\n",
    "import numpy as np\n",
    "import matplotlib as mtp\n",
    "import matplotlib.pyplot as plt\n",
    "import pandas as pd"
   ]
  },
  {
   "cell_type": "code",
   "execution_count": 2,
   "id": "3726e521-f942-462c-bc20-bd6a32d940b6",
   "metadata": {},
   "outputs": [],
   "source": [
    "datasets_dir = os.path.join(\"/homeLocal/jpulzdeoliveira/datasets\")\n",
    "pastis_dir = os.path.join(datasets_dir, \"PASTIS\")"
   ]
  },
  {
   "cell_type": "code",
   "execution_count": 3,
   "id": "3c092bb0-13d0-4b97-b6f1-103c4ffbd8fe",
   "metadata": {},
   "outputs": [
    {
     "name": "stdout",
     "output_type": "stream",
     "text": [
      "Using cuda as backend device\n"
     ]
    }
   ],
   "source": [
    "backend_device = \"cuda\" if torch.cuda.is_available() else \"cpu\"\n",
    "print(f\"Using {backend_device} as backend device\")"
   ]
  },
  {
   "cell_type": "code",
   "execution_count": 11,
   "id": "487e95c1-b8fe-40d8-a032-5a1272e7c396",
   "metadata": {},
   "outputs": [
    {
     "name": "stdout",
     "output_type": "stream",
     "text": [
      "Reading patch metadata...\n",
      "Reading cloud analisys metadata...\n",
      "Generating parcels...\n"
     ]
    },
    {
     "name": "stderr",
     "output_type": "stream",
     "text": [
      "/opt/conda/lib/python3.10/site-packages/numpy/core/fromnumeric.py:59: FutureWarning: 'GeoDataFrame.swapaxes' is deprecated and will be removed in a future version. Please use 'GeoDataFrame.transpose' instead.\n",
      "  return bound(*args, **kwds)\n",
      "/opt/conda/lib/python3.10/site-packages/numpy/core/fromnumeric.py:59: FutureWarning: 'GeoDataFrame.swapaxes' is deprecated and will be removed in a future version. Please use 'GeoDataFrame.transpose' instead.\n",
      "  return bound(*args, **kwds)\n",
      "/opt/conda/lib/python3.10/site-packages/numpy/core/fromnumeric.py:59: FutureWarning: 'GeoDataFrame.swapaxes' is deprecated and will be removed in a future version. Please use 'GeoDataFrame.transpose' instead.\n",
      "  return bound(*args, **kwds)\n",
      "/opt/conda/lib/python3.10/site-packages/numpy/core/fromnumeric.py:59: FutureWarning: 'GeoDataFrame.swapaxes' is deprecated and will be removed in a future version. Please use 'GeoDataFrame.transpose' instead.\n",
      "  return bound(*args, **kwds)\n",
      "/opt/conda/lib/python3.10/site-packages/numpy/core/fromnumeric.py:59: FutureWarning: 'GeoDataFrame.swapaxes' is deprecated and will be removed in a future version. Please use 'GeoDataFrame.transpose' instead.\n",
      "  return bound(*args, **kwds)\n",
      "/opt/conda/lib/python3.10/site-packages/numpy/core/fromnumeric.py:59: FutureWarning: 'GeoDataFrame.swapaxes' is deprecated and will be removed in a future version. Please use 'GeoDataFrame.transpose' instead.\n",
      "  return bound(*args, **kwds)\n",
      "/opt/conda/lib/python3.10/site-packages/numpy/core/fromnumeric.py:59: FutureWarning: 'GeoDataFrame.swapaxes' is deprecated and will be removed in a future version. Please use 'GeoDataFrame.transpose' instead.\n",
      "  return bound(*args, **kwds)\n",
      "/opt/conda/lib/python3.10/site-packages/numpy/core/fromnumeric.py:59: FutureWarning: 'GeoDataFrame.swapaxes' is deprecated and will be removed in a future version. Please use 'GeoDataFrame.transpose' instead.\n",
      "  return bound(*args, **kwds)\n",
      "/opt/conda/lib/python3.10/site-packages/numpy/core/fromnumeric.py:59: FutureWarning: 'GeoDataFrame.swapaxes' is deprecated and will be removed in a future version. Please use 'GeoDataFrame.transpose' instead.\n",
      "  return bound(*args, **kwds)\n",
      "/opt/conda/lib/python3.10/site-packages/numpy/core/fromnumeric.py:59: FutureWarning: 'GeoDataFrame.swapaxes' is deprecated and will be removed in a future version. Please use 'GeoDataFrame.transpose' instead.\n",
      "  return bound(*args, **kwds)\n",
      "/opt/conda/lib/python3.10/site-packages/numpy/core/fromnumeric.py:59: FutureWarning: 'GeoDataFrame.swapaxes' is deprecated and will be removed in a future version. Please use 'GeoDataFrame.transpose' instead.\n",
      "  return bound(*args, **kwds)\n",
      "/opt/conda/lib/python3.10/site-packages/numpy/core/fromnumeric.py:59: FutureWarning: 'GeoDataFrame.swapaxes' is deprecated and will be removed in a future version. Please use 'GeoDataFrame.transpose' instead.\n",
      "  return bound(*args, **kwds)\n",
      "/opt/conda/lib/python3.10/site-packages/numpy/core/fromnumeric.py:59: FutureWarning: 'GeoDataFrame.swapaxes' is deprecated and will be removed in a future version. Please use 'GeoDataFrame.transpose' instead.\n",
      "  return bound(*args, **kwds)\n"
     ]
    },
    {
     "name": "stdout",
     "output_type": "stream",
     "text": [
      "Done.\n"
     ]
    }
   ],
   "source": [
    "import geopandas as gpd\n",
    "import multiprocessing as mp\n",
    "from skimage.measure import label, regionprops\n",
    "from skimage.morphology import flood_fill\n",
    "from torch.utils.data import Dataset\n",
    "from tqdm import tqdm\n",
    "\n",
    "def get_parcels(args):\n",
    "    param, meta_patches = args\n",
    "    parcels_data = {\n",
    "        'id': [],\n",
    "        'bbox': [],\n",
    "        'label': [],\n",
    "        'tmps_count': [],\n",
    "    }\n",
    "    for _, patch in meta_patches.iterrows():\n",
    "        patch_id_path = os.path.join(param['root'], \"ANNOTATIONS\", f\"ParcelIDs_{patch.ID_PATCH}.npy\")\n",
    "        target_path = os.path.join(param['root'], \"ANNOTATIONS\", f\"TARGET_{patch.ID_PATCH}.npy\")\n",
    "        parcels = np.load(patch_id_path)\n",
    "        target = np.load(target_path)[0].astype(int)\n",
    "        parcels_label = label(parcels)\n",
    "        regions = regionprops(parcels_label)\n",
    "\n",
    "        count = 0\n",
    "        for props in regions:\n",
    "            minr, minc, maxr, maxc = props.bbox\n",
    "            width = maxc - minc\n",
    "            height = maxr - minr\n",
    "            real_area = width * height\n",
    "            aspect_ratio = width / height\n",
    "            if real_area >= param['min_area'] and props.extent >= param['min_extent'] \\\n",
    "                and (param['max_ratio'] <= aspect_ratio <= param['min_ratio'] \\\n",
    "                or 1 / param['max_ratio'] >= aspect_ratio >= 1 / param['min_ratio']):\n",
    "                count += 1\n",
    "                parcels_data['id'].append(patch.ID_PATCH)\n",
    "                parcels_data['bbox'].append(props.bbox)\n",
    "                mask = parcels_label == props.label\n",
    "                b_label = target[mask][0]\n",
    "                parcels_data['label'].append(b_label)\n",
    "                parcels_data['tmps_count'].append(patch.tmps_count)\n",
    "\n",
    "    return pd.DataFrame(data=parcels_data)\n",
    "\n",
    "def generate_parcels(\n",
    "    root,\n",
    "    cloud_aux,\n",
    "    min_area=2304.0,\n",
    "    min_ratio=1,\n",
    "    max_ratio=3/5,\n",
    "    min_extent=0.05,\n",
    "    num_threads=-1\n",
    "    ):\n",
    "    data_root = os.path.join(root, \"DATA_S2\")\n",
    "    \n",
    "    print(\"Reading patch metadata...\")\n",
    "    meta_patch = gpd.read_file(os.path.join(root, \"metadata.geojson\"))\n",
    "    meta_patch.sort_index(inplace=True)\n",
    "\n",
    "    print(\"Reading cloud analisys metadata...\")\n",
    "    cloud_aux = pd.read_csv(cloud_aux)\n",
    "    cloud_aux.rename(columns={'id': 'ID_PATCH'}, inplace=True)\n",
    "    meta_patch = meta_patch.merge(cloud_aux, on='ID_PATCH')\n",
    "    meta_patch.dropna(subset=['tmps_count'])\n",
    "    \n",
    "    num_processes = mp.cpu_count() if num_threads == -1 else num_threads\n",
    "    chuncks = np.array_split(meta_patch, num_processes)\n",
    "    param = {\n",
    "        'root': root,\n",
    "        'min_area': min_area,\n",
    "        'min_ratio': min_ratio,\n",
    "        'max_ratio': max_ratio,\n",
    "        'min_extent': min_extent,\n",
    "    }\n",
    "    \n",
    "    print(\"Generating parcels...\")\n",
    "\n",
    "    with mp.Pool(num_processes) as pool:\n",
    "        result = pool.map(get_parcels, zip([param]*num_processes, chuncks,))\n",
    "    parcels_df = pd.concat(result)\n",
    "\n",
    "    print(\"Done.\")\n",
    "\n",
    "    return parcels_df\n",
    "\n",
    "save_file = os.path.join(\"./pastis_parcels_cloud_analisys.csv\")\n",
    "cloud_aux = os.path.join(\"./cloud_aux.csv\")\n",
    "generate_parcels(\n",
    "    pastis_dir,\n",
    "    cloud_aux,\n",
    "    num_threads=mp.cpu_count() * 3 // 5\n",
    "    ).to_csv(save_file, index=False)"
   ]
  }
 ],
 "metadata": {
  "kernelspec": {
   "display_name": "Python 3 (ipykernel)",
   "language": "python",
   "name": "python3"
  },
  "language_info": {
   "codemirror_mode": {
    "name": "ipython",
    "version": 3
   },
   "file_extension": ".py",
   "mimetype": "text/x-python",
   "name": "python",
   "nbconvert_exporter": "python",
   "pygments_lexer": "ipython3",
   "version": "3.10.13"
  }
 },
 "nbformat": 4,
 "nbformat_minor": 5
}
